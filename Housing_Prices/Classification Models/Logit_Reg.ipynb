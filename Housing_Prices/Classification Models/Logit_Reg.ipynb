{
 "metadata": {
  "language_info": {
   "codemirror_mode": {
    "name": "ipython",
    "version": 3
   },
   "file_extension": ".py",
   "mimetype": "text/x-python",
   "name": "python",
   "nbconvert_exporter": "python",
   "pygments_lexer": "ipython3",
   "version": "3.8.10"
  },
  "orig_nbformat": 2,
  "kernelspec": {
   "name": "python3",
   "display_name": "Python 3.8.10 64-bit"
  },
  "metadata": {
   "interpreter": {
    "hash": "8c0ca710616a0fb9475365dbe157376047a0359b13d6c4a1a84c0ecfc903a809"
   }
  },
  "interpreter": {
   "hash": "5d97ad4eda96f4e0dcd5ae4f97368654619500468c6147550d2a1b2a1881f9a5"
  }
 },
 "nbformat": 4,
 "nbformat_minor": 2,
 "cells": [
  {
   "cell_type": "code",
   "execution_count": 14,
   "metadata": {},
   "outputs": [],
   "source": [
    "import numpy as np\n",
    "import pandas as pd\n",
    "from sklearn.linear_model import LogisticRegression\n",
    "from sklearn.discriminant_analysis import LinearDiscriminantAnalysis\n",
    "import matplotlib.pyplot as plt\n",
    "import seaborn as sns\n",
    "from sklearn.model_selection import train_test_split\n",
    "from sklearn.metrics import precision_score, recall_score, roc_auc_score"
   ]
  },
  {
   "cell_type": "code",
   "execution_count": 23,
   "metadata": {},
   "outputs": [],
   "source": [
    "data = pd.read_csv(\"Clean_Data_Classification.csv\")\n",
    "data_X = data.drop(columns='Sold')\n",
    "data_Y = data['Sold']"
   ]
  },
  {
   "cell_type": "code",
   "execution_count": 27,
   "metadata": {},
   "outputs": [],
   "source": [
    "X_Train, X_test, Y_train, Y_test = train_test_split(data_X, data_Y, train_size= 0.8)\n",
    "logit_model = LogisticRegression(max_iter=1000)\n"
   ]
  },
  {
   "cell_type": "code",
   "execution_count": 26,
   "metadata": {},
   "outputs": [
    {
     "output_type": "execute_result",
     "data": {
      "text/plain": [
       "LogisticRegression(max_iter=1000)"
      ]
     },
     "metadata": {},
     "execution_count": 26
    }
   ],
   "source": [
    "logit_model.fit(X_Train, Y_train)\n"
   ]
  },
  {
   "cell_type": "code",
   "execution_count": 5,
   "metadata": {},
   "outputs": [
    {
     "output_type": "stream",
     "name": "stdout",
     "text": [
      "[0 0 0 1 1 0 0 0 0 0 1 0 0 1 0 1 0 0 1 0 1 1 1 0 1 0 0 0 1 0 1 0 0 0 1 1 0\n 0 0 0 0 1 1 0 1 1 0 1 0 1 1 0 0 1 0 0 0 1 1 0 0 1 1 0 0 0 0 1 0 0 1 0 0 0\n 1 1 0 1 0 0 1 0 1 1 0 0 0 0 0 1 0 0 0 1 1 1 1 1 1 0 1 0]\n[1 0 0 1 0 0 0 0 0 0 1 0 0 0 1 1 1 0 1 0 0 1 1 0 1 0 0 0 1 1 1 0 1 1 0 1 0\n 0 0 0 1 0 0 1 1 1 0 1 1 1 0 0 0 1 0 1 0 1 1 0 1 1 0 0 0 1 0 1 0 0 1 0 0 0\n 1 1 1 1 1 1 1 0 1 0 0 1 1 0 1 1 0 0 1 0 1 1 1 1 0 1 1 0]\n"
     ]
    }
   ],
   "source": [
    "Y_predicted = logit_model.predict(X_test)\n",
    "print(Y_predicted)\n",
    "Y_test_arr = np.array(Y_test)\n",
    "print(Y_test_arr)"
   ]
  },
  {
   "cell_type": "code",
   "execution_count": 6,
   "metadata": {},
   "outputs": [
    {
     "output_type": "stream",
     "name": "stdout",
     "text": [
      "[[0.55340784 0.44659216]\n [0.75482978 0.24517022]\n [0.51590317 0.48409683]\n [0.38322758 0.61677242]\n [0.4860672  0.5139328 ]\n [0.76744802 0.23255198]\n [0.93298226 0.06701774]\n [0.56401821 0.43598179]\n [0.57230217 0.42769783]\n [0.85040084 0.14959916]\n [0.45353397 0.54646603]\n [0.64514944 0.35485056]\n [0.57248044 0.42751956]\n [0.44637394 0.55362606]\n [0.68956596 0.31043404]\n [0.40608207 0.59391793]\n [0.60437734 0.39562266]\n [0.76522722 0.23477278]\n [0.25290754 0.74709246]\n [0.65615987 0.34384013]\n [0.29096925 0.70903075]\n [0.44054948 0.55945052]\n [0.28732184 0.71267816]\n [0.69259444 0.30740556]\n [0.37707284 0.62292716]\n [0.50453452 0.49546548]\n [0.7679243  0.2320757 ]\n [0.58248649 0.41751351]\n [0.41845846 0.58154154]\n [0.76562712 0.23437288]\n [0.2855209  0.7144791 ]\n [0.53487133 0.46512867]\n [0.69164699 0.30835301]\n [0.54666461 0.45333539]\n [0.39749056 0.60250944]\n [0.25540983 0.74459017]\n [0.6816009  0.3183991 ]\n [0.69185759 0.30814241]\n [0.61733042 0.38266958]\n [0.58083748 0.41916252]\n [0.54747021 0.45252979]\n [0.27222225 0.72777775]\n [0.29074209 0.70925791]\n [0.5525885  0.4474115 ]\n [0.46348307 0.53651693]\n [0.41425529 0.58574471]\n [0.71037643 0.28962357]\n [0.24911202 0.75088798]\n [0.64689069 0.35310931]\n [0.46345889 0.53654111]\n [0.42686985 0.57313015]\n [0.84717566 0.15282434]\n [0.7749337  0.2250663 ]\n [0.30664425 0.69335575]\n [0.82861274 0.17138726]\n [0.68931044 0.31068956]\n [0.68426435 0.31573565]\n [0.48979125 0.51020875]\n [0.43653782 0.56346218]\n [0.52910765 0.47089235]\n [0.65957204 0.34042796]\n [0.31187143 0.68812857]\n [0.23465298 0.76534702]\n [0.89971436 0.10028564]\n [0.754951   0.245049  ]\n [0.55909112 0.44090888]\n [0.87482821 0.12517179]\n [0.40799895 0.59200105]\n [0.99515167 0.00484833]\n [0.66541031 0.33458969]\n [0.38268875 0.61731125]\n [0.53322391 0.46677609]\n [0.96326536 0.03673464]\n [0.83391257 0.16608743]\n [0.33940495 0.66059505]\n [0.05431984 0.94568016]\n [0.59317943 0.40682057]\n [0.36766646 0.63233354]\n [0.68948997 0.31051003]\n [0.78163649 0.21836351]\n [0.24428924 0.75571076]\n [0.80950072 0.19049928]\n [0.27998706 0.72001294]\n [0.33919817 0.66080183]\n [0.54211925 0.45788075]\n [0.50600298 0.49399702]\n [0.72226179 0.27773821]\n [0.72292849 0.27707151]\n [0.54984055 0.45015945]\n [0.23458346 0.76541654]\n [0.68563543 0.31436457]\n [0.67070719 0.32929281]\n [0.59171827 0.40828173]\n [0.28858141 0.71141859]\n [0.29114723 0.70885277]\n [0.38596111 0.61403889]\n [0.4443593  0.5556407 ]\n [0.48162408 0.51837592]\n [0.47582621 0.52417379]\n [0.5789793  0.4210207 ]\n [0.34265975 0.65734025]\n [0.85591305 0.14408695]]\n"
     ]
    }
   ],
   "source": [
    "prob_no_yes = logit_model.predict_proba(X_test)\n",
    "print(prob_no_yes)"
   ]
  },
  {
   "cell_type": "code",
   "execution_count": 7,
   "metadata": {},
   "outputs": [
    {
     "output_type": "execute_result",
     "data": {
      "text/plain": [
       "array([ True, False,  True,  True,  True, False, False,  True,  True,\n",
       "       False,  True, False,  True,  True, False,  True, False, False,\n",
       "        True, False,  True,  True,  True, False,  True,  True, False,\n",
       "        True,  True, False,  True,  True, False,  True,  True,  True,\n",
       "       False, False, False,  True,  True,  True,  True,  True,  True,\n",
       "        True, False,  True, False,  True,  True, False, False,  True,\n",
       "       False, False, False,  True,  True,  True, False,  True,  True,\n",
       "       False, False,  True, False,  True, False, False,  True,  True,\n",
       "       False, False,  True,  True,  True,  True, False, False,  True,\n",
       "       False,  True,  True,  True,  True, False, False,  True,  True,\n",
       "       False, False,  True,  True,  True,  True,  True,  True,  True,\n",
       "        True,  True, False])"
      ]
     },
     "metadata": {},
     "execution_count": 7
    }
   ],
   "source": [
    "Y_predicted_02 = (prob_no_yes[:, 1] >= 0.4)\n",
    "Y_predicted_02"
   ]
  },
  {
   "cell_type": "code",
   "execution_count": 8,
   "metadata": {},
   "outputs": [
    {
     "output_type": "execute_result",
     "data": {
      "text/plain": [
       "array([[40, 11],\n",
       "       [20, 31]], dtype=int64)"
      ]
     },
     "metadata": {},
     "execution_count": 8
    }
   ],
   "source": [
    "from sklearn.metrics import confusion_matrix\n",
    "confusion_matrix(Y_test, Y_predicted)"
   ]
  },
  {
   "cell_type": "code",
   "execution_count": 9,
   "metadata": {},
   "outputs": [
    {
     "output_type": "execute_result",
     "data": {
      "text/plain": [
       "array([[29, 22],\n",
       "       [10, 41]], dtype=int64)"
      ]
     },
     "metadata": {},
     "execution_count": 9
    }
   ],
   "source": [
    "confusion_matrix(Y_test, Y_predicted_02)"
   ]
  },
  {
   "cell_type": "code",
   "execution_count": 13,
   "metadata": {},
   "outputs": [
    {
     "output_type": "stream",
     "name": "stdout",
     "text": [
      "0.6507936507936508\n0.803921568627451\n0.6862745098039216\n"
     ]
    }
   ],
   "source": [
    "print(precision_score(Y_test, Y_predicted_02))\n",
    "print(recall_score(Y_test, Y_predicted_02))\n",
    "print(roc_auc_score(Y_test, Y_predicted_02))\n"
   ]
  }
 ]
}