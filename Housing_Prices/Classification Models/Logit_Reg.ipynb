{
 "metadata": {
  "language_info": {
   "codemirror_mode": {
    "name": "ipython",
    "version": 3
   },
   "file_extension": ".py",
   "mimetype": "text/x-python",
   "name": "python",
   "nbconvert_exporter": "python",
   "pygments_lexer": "ipython3",
   "version": "3.8.8"
  },
  "orig_nbformat": 2,
  "kernelspec": {
   "name": "python388jvsc74a57bd08c0ca710616a0fb9475365dbe157376047a0359b13d6c4a1a84c0ecfc903a809",
   "display_name": "Python 3.8.8 64-bit"
  },
  "metadata": {
   "interpreter": {
    "hash": "8c0ca710616a0fb9475365dbe157376047a0359b13d6c4a1a84c0ecfc903a809"
   }
  }
 },
 "nbformat": 4,
 "nbformat_minor": 2,
 "cells": [
  {
   "cell_type": "code",
   "execution_count": 8,
   "metadata": {},
   "outputs": [],
   "source": [
    "import numpy as np\n",
    "import pandas as pd\n",
    "from sklearn.linear_model import LogisticRegression\n",
    "import matplotlib.pyplot as plt\n",
    "import seaborn as sns\n",
    "from sklearn.model_selection import train_test_split"
   ]
  },
  {
   "cell_type": "code",
   "execution_count": 9,
   "metadata": {},
   "outputs": [],
   "source": [
    "data = pd.read_csv(\"Clean_Data_Classification.csv\")\n",
    "data_X = data.drop(columns='Sold')\n",
    "data_Y = data['Sold']"
   ]
  },
  {
   "cell_type": "code",
   "execution_count": 10,
   "metadata": {},
   "outputs": [],
   "source": [
    "X_Train, X_test, Y_train, Y_test = train_test_split(data_X, data_Y, train_size= 0.8)\n",
    "logit_model = LogisticRegression(max_iter=1000)"
   ]
  },
  {
   "cell_type": "code",
   "execution_count": 11,
   "metadata": {},
   "outputs": [
    {
     "output_type": "execute_result",
     "data": {
      "text/plain": [
       "LogisticRegression(max_iter=1000)"
      ]
     },
     "metadata": {},
     "execution_count": 11
    }
   ],
   "source": [
    "logit_model.fit(X_Train, Y_train)"
   ]
  },
  {
   "cell_type": "code",
   "execution_count": 12,
   "metadata": {},
   "outputs": [
    {
     "output_type": "stream",
     "name": "stdout",
     "text": [
      "[0 0 0 1 1 0 0 1 0 1 0 0 0 1 1 0 1 0 0 0 0 0 0 0 0 1 1 1 1 0 1 1 0 0 0 0 1\n 0 0 1 1 0 0 1 0 1 1 1 1 0 0 1 0 0 0 0 0 1 0 0 0 0 0 1 1 1 0 0 1 0 1 0 0 1\n 0 1 1 0 0 0 1 1 1 0 1 0 1 0 1 1 0 0 0 0 1 1 0 1 1 0 0 1]\n[1 0 0 0 1 0 0 0 0 1 0 0 1 1 1 0 0 0 1 0 0 1 0 0 0 1 0 0 0 0 1 1 0 0 1 0 1\n 0 0 1 1 1 1 1 1 0 0 0 0 0 1 1 0 0 0 0 1 0 0 1 1 1 0 1 1 1 1 1 1 1 1 0 0 1\n 1 1 1 1 0 0 0 1 1 0 1 0 1 1 1 0 0 1 0 0 1 1 0 1 1 0 0 0]\n"
     ]
    }
   ],
   "source": [
    "Y_predicted = logit_model.predict(X_test)\n",
    "print(Y_predicted)\n",
    "Y_test_arr = np.array(Y_test)\n",
    "print(Y_test_arr)"
   ]
  },
  {
   "cell_type": "code",
   "execution_count": 14,
   "metadata": {},
   "outputs": [
    {
     "output_type": "stream",
     "name": "stdout",
     "text": [
      "[[0.7230615  0.2769385 ]\n [0.60265632 0.39734368]\n [0.80316116 0.19683884]\n [0.38903081 0.61096919]\n [0.37710165 0.62289835]\n [0.77268063 0.22731937]\n [0.77334025 0.22665975]\n [0.22382811 0.77617189]\n [0.50311853 0.49688147]\n [0.41269909 0.58730091]\n [0.81880616 0.18119384]\n [0.68058022 0.31941978]\n [0.68128233 0.31871767]\n [0.47736255 0.52263745]\n [0.26514731 0.73485269]\n [0.69111767 0.30888233]\n [0.44476636 0.55523364]\n [0.51294346 0.48705654]\n [0.61911486 0.38088514]\n [0.50848786 0.49151214]\n [0.71827936 0.28172064]\n [0.59777226 0.40222774]\n [0.57329814 0.42670186]\n [0.87707245 0.12292755]\n [0.64119062 0.35880938]\n [0.45379286 0.54620714]\n [0.38178291 0.61821709]\n [0.44011708 0.55988292]\n [0.24192159 0.75807841]\n [0.88674817 0.11325183]\n [0.32920604 0.67079396]\n [0.15183282 0.84816718]\n [0.6404801  0.3595199 ]\n [0.6930525  0.3069475 ]\n [0.5116444  0.4883556 ]\n [0.53567657 0.46432343]\n [0.42504616 0.57495384]\n [0.5805057  0.4194943 ]\n [0.58832045 0.41167955]\n [0.49913105 0.50086895]\n [0.19289425 0.80710575]\n [0.5240411  0.4759589 ]\n [0.76180728 0.23819272]\n [0.16378528 0.83621472]\n [0.6355145  0.3644855 ]\n [0.38672716 0.61327284]\n [0.15960193 0.84039807]\n [0.47410373 0.52589627]\n [0.45905639 0.54094361]\n [0.68469344 0.31530656]\n [0.71804176 0.28195824]\n [0.26440209 0.73559791]\n [0.61132972 0.38867028]\n [0.56710531 0.43289469]\n [0.51159644 0.48840356]\n [0.96547507 0.03452493]\n [0.75002543 0.24997457]\n [0.43405062 0.56594938]\n [0.53116524 0.46883476]\n [0.6498049  0.3501951 ]\n [0.62215916 0.37784084]\n [0.55485981 0.44514019]\n [0.70280197 0.29719803]\n [0.15499925 0.84500075]\n [0.42005478 0.57994522]\n [0.19054671 0.80945329]\n [0.6304023  0.3695977 ]\n [0.54095996 0.45904004]\n [0.42676768 0.57323232]\n [0.54405851 0.45594149]\n [0.44941487 0.55058513]\n [0.81238932 0.18761068]\n [0.6517385  0.3482615 ]\n [0.34460257 0.65539743]\n [0.71738495 0.28261505]\n [0.28803284 0.71196716]\n [0.4073411  0.5926589 ]\n [0.72879773 0.27120227]\n [0.84706191 0.15293809]\n [0.76718839 0.23281161]\n [0.28860935 0.71139065]\n [0.38823189 0.61176811]\n [0.3318905  0.6681095 ]\n [0.7988437  0.2011563 ]\n [0.30361837 0.69638163]\n [0.68051638 0.31948362]\n [0.29680775 0.70319225]\n [0.63955697 0.36044303]\n [0.48737387 0.51262613]\n [0.36113862 0.63886138]\n [0.80598527 0.19401473]\n [0.52852662 0.47147338]\n [0.57496876 0.42503124]\n [0.75745082 0.24254918]\n [0.3325155  0.6674845 ]\n [0.10830692 0.89169308]\n [0.64858736 0.35141264]\n [0.24065017 0.75934983]\n [0.42142374 0.57857626]\n [0.91060574 0.08939426]\n [0.86347834 0.13652166]\n [0.39501007 0.60498993]]\n"
     ]
    }
   ],
   "source": [
    "prob_no_yes = logit_model.predict_proba(X_test)\n",
    "print(prob_no_yes)"
   ]
  },
  {
   "cell_type": "code",
   "execution_count": 19,
   "metadata": {},
   "outputs": [
    {
     "output_type": "execute_result",
     "data": {
      "text/plain": [
       "array([False, False, False,  True,  True, False, False,  True,  True,\n",
       "        True, False, False, False,  True,  True, False,  True,  True,\n",
       "       False,  True, False,  True,  True, False, False,  True,  True,\n",
       "        True,  True, False,  True,  True, False, False,  True,  True,\n",
       "        True,  True,  True,  True,  True,  True, False,  True, False,\n",
       "        True,  True,  True,  True, False, False,  True, False,  True,\n",
       "        True, False, False,  True,  True, False, False,  True, False,\n",
       "        True,  True,  True, False,  True,  True,  True,  True, False,\n",
       "       False,  True, False,  True,  True, False, False, False,  True,\n",
       "        True,  True, False,  True, False,  True, False,  True,  True,\n",
       "       False,  True,  True, False,  True,  True, False,  True,  True,\n",
       "       False, False,  True])"
      ]
     },
     "metadata": {},
     "execution_count": 19
    }
   ],
   "source": [
    "Y_predicted_02 = (prob_no_yes[:, 1] >= 0.4)\n",
    "Y_predicted_02"
   ]
  },
  {
   "cell_type": "code",
   "execution_count": 17,
   "metadata": {},
   "outputs": [
    {
     "output_type": "execute_result",
     "data": {
      "text/plain": [
       "array([[39, 14],\n",
       "       [20, 29]], dtype=int64)"
      ]
     },
     "metadata": {},
     "execution_count": 17
    }
   ],
   "source": [
    "from sklearn.metrics import confusion_matrix\n",
    "confusion_matrix(Y_test, Y_predicted)"
   ]
  },
  {
   "cell_type": "code",
   "execution_count": 20,
   "metadata": {},
   "outputs": [
    {
     "output_type": "execute_result",
     "data": {
      "text/plain": [
       "array([[28, 25],\n",
       "       [13, 36]], dtype=int64)"
      ]
     },
     "metadata": {},
     "execution_count": 20
    }
   ],
   "source": [
    "confusion_matrix(Y_test, Y_predicted_02)"
   ]
  }
 ]
}