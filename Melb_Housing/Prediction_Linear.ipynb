{
 "metadata": {
  "language_info": {
   "codemirror_mode": {
    "name": "ipython",
    "version": 3
   },
   "file_extension": ".py",
   "mimetype": "text/x-python",
   "name": "python",
   "nbconvert_exporter": "python",
   "pygments_lexer": "ipython3",
   "version": "3.8.8"
  },
  "orig_nbformat": 2,
  "kernelspec": {
   "name": "python388jvsc74a57bd08c0ca710616a0fb9475365dbe157376047a0359b13d6c4a1a84c0ecfc903a809",
   "display_name": "Python 3.8.8 64-bit"
  },
  "metadata": {
   "interpreter": {
    "hash": "8c0ca710616a0fb9475365dbe157376047a0359b13d6c4a1a84c0ecfc903a809"
   }
  }
 },
 "nbformat": 4,
 "nbformat_minor": 2,
 "cells": [
  {
   "cell_type": "code",
   "execution_count": 1,
   "metadata": {},
   "outputs": [],
   "source": [
    "from sklearn.linear_model import LinearRegression, Ridge, RidgeCV\n",
    "from matplotlib import pyplot as plt\n",
    "from sklearn.metrics import r2_score, mean_squared_error\n",
    "import numpy as np\n",
    "import pandas as pd\n",
    "import seaborn as sns"
   ]
  },
  {
   "cell_type": "code",
   "execution_count": 9,
   "metadata": {},
   "outputs": [],
   "source": [
    "data_housing = pd.read_csv('Clean melb_data.csv')"
   ]
  },
  {
   "cell_type": "code",
   "execution_count": 10,
   "metadata": {},
   "outputs": [
    {
     "output_type": "execute_result",
     "data": {
      "text/plain": [
       "       Suburb  Rooms Type      Price Method SellerG       Date  Distance  \\\n",
       "0  Abbotsford      2    h  1480000.0      S  Biggin  3/12/2016       2.5   \n",
       "1  Abbotsford      2    h  1035000.0      S  Biggin  4/02/2016       2.5   \n",
       "2  Abbotsford      3    h  1465000.0     SP  Biggin  4/03/2017       2.5   \n",
       "3  Abbotsford      3    h   850000.0     PI  Biggin  4/03/2017       2.5   \n",
       "4  Abbotsford      4    h  1600000.0     VB  Nelson  4/06/2016       2.5   \n",
       "\n",
       "   Postcode  Bedroom2  Bathroom  Car  Landsize  BuildingArea  YearBuilt  \\\n",
       "0    3067.0       2.0       1.0  1.0     202.0           NaN        NaN   \n",
       "1    3067.0       2.0       1.0  0.0     156.0          79.0     1900.0   \n",
       "2    3067.0       3.0       2.0  0.0     134.0         150.0     1900.0   \n",
       "3    3067.0       3.0       2.0  1.0      94.0           NaN        NaN   \n",
       "4    3067.0       3.0       1.0  2.0     120.0         142.0     2014.0   \n",
       "\n",
       "  CouncilArea  Lattitude  Longtitude             Regionname  Propertycount  \n",
       "0       Yarra   -37.7996    144.9984  Northern Metropolitan         4019.0  \n",
       "1       Yarra   -37.8079    144.9934  Northern Metropolitan         4019.0  \n",
       "2       Yarra   -37.8093    144.9944  Northern Metropolitan         4019.0  \n",
       "3       Yarra   -37.7969    144.9969  Northern Metropolitan         4019.0  \n",
       "4       Yarra   -37.8072    144.9941  Northern Metropolitan         4019.0  "
      ],
      "text/html": "<div>\n<style scoped>\n    .dataframe tbody tr th:only-of-type {\n        vertical-align: middle;\n    }\n\n    .dataframe tbody tr th {\n        vertical-align: top;\n    }\n\n    .dataframe thead th {\n        text-align: right;\n    }\n</style>\n<table border=\"1\" class=\"dataframe\">\n  <thead>\n    <tr style=\"text-align: right;\">\n      <th></th>\n      <th>Suburb</th>\n      <th>Rooms</th>\n      <th>Type</th>\n      <th>Price</th>\n      <th>Method</th>\n      <th>SellerG</th>\n      <th>Date</th>\n      <th>Distance</th>\n      <th>Postcode</th>\n      <th>Bedroom2</th>\n      <th>Bathroom</th>\n      <th>Car</th>\n      <th>Landsize</th>\n      <th>BuildingArea</th>\n      <th>YearBuilt</th>\n      <th>CouncilArea</th>\n      <th>Lattitude</th>\n      <th>Longtitude</th>\n      <th>Regionname</th>\n      <th>Propertycount</th>\n    </tr>\n  </thead>\n  <tbody>\n    <tr>\n      <th>0</th>\n      <td>Abbotsford</td>\n      <td>2</td>\n      <td>h</td>\n      <td>1480000.0</td>\n      <td>S</td>\n      <td>Biggin</td>\n      <td>3/12/2016</td>\n      <td>2.5</td>\n      <td>3067.0</td>\n      <td>2.0</td>\n      <td>1.0</td>\n      <td>1.0</td>\n      <td>202.0</td>\n      <td>NaN</td>\n      <td>NaN</td>\n      <td>Yarra</td>\n      <td>-37.7996</td>\n      <td>144.9984</td>\n      <td>Northern Metropolitan</td>\n      <td>4019.0</td>\n    </tr>\n    <tr>\n      <th>1</th>\n      <td>Abbotsford</td>\n      <td>2</td>\n      <td>h</td>\n      <td>1035000.0</td>\n      <td>S</td>\n      <td>Biggin</td>\n      <td>4/02/2016</td>\n      <td>2.5</td>\n      <td>3067.0</td>\n      <td>2.0</td>\n      <td>1.0</td>\n      <td>0.0</td>\n      <td>156.0</td>\n      <td>79.0</td>\n      <td>1900.0</td>\n      <td>Yarra</td>\n      <td>-37.8079</td>\n      <td>144.9934</td>\n      <td>Northern Metropolitan</td>\n      <td>4019.0</td>\n    </tr>\n    <tr>\n      <th>2</th>\n      <td>Abbotsford</td>\n      <td>3</td>\n      <td>h</td>\n      <td>1465000.0</td>\n      <td>SP</td>\n      <td>Biggin</td>\n      <td>4/03/2017</td>\n      <td>2.5</td>\n      <td>3067.0</td>\n      <td>3.0</td>\n      <td>2.0</td>\n      <td>0.0</td>\n      <td>134.0</td>\n      <td>150.0</td>\n      <td>1900.0</td>\n      <td>Yarra</td>\n      <td>-37.8093</td>\n      <td>144.9944</td>\n      <td>Northern Metropolitan</td>\n      <td>4019.0</td>\n    </tr>\n    <tr>\n      <th>3</th>\n      <td>Abbotsford</td>\n      <td>3</td>\n      <td>h</td>\n      <td>850000.0</td>\n      <td>PI</td>\n      <td>Biggin</td>\n      <td>4/03/2017</td>\n      <td>2.5</td>\n      <td>3067.0</td>\n      <td>3.0</td>\n      <td>2.0</td>\n      <td>1.0</td>\n      <td>94.0</td>\n      <td>NaN</td>\n      <td>NaN</td>\n      <td>Yarra</td>\n      <td>-37.7969</td>\n      <td>144.9969</td>\n      <td>Northern Metropolitan</td>\n      <td>4019.0</td>\n    </tr>\n    <tr>\n      <th>4</th>\n      <td>Abbotsford</td>\n      <td>4</td>\n      <td>h</td>\n      <td>1600000.0</td>\n      <td>VB</td>\n      <td>Nelson</td>\n      <td>4/06/2016</td>\n      <td>2.5</td>\n      <td>3067.0</td>\n      <td>3.0</td>\n      <td>1.0</td>\n      <td>2.0</td>\n      <td>120.0</td>\n      <td>142.0</td>\n      <td>2014.0</td>\n      <td>Yarra</td>\n      <td>-37.8072</td>\n      <td>144.9941</td>\n      <td>Northern Metropolitan</td>\n      <td>4019.0</td>\n    </tr>\n  </tbody>\n</table>\n</div>"
     },
     "metadata": {},
     "execution_count": 10
    }
   ],
   "source": [
    "data_housing.head(5)"
   ]
  },
  {
   "cell_type": "code",
   "execution_count": 12,
   "metadata": {},
   "outputs": [
    {
     "output_type": "execute_result",
     "data": {
      "text/plain": [
       "           Suburb        Rooms   Type         Price Method SellerG  \\\n",
       "count       13280  13280.00000  13280  1.328000e+04  13280   13280   \n",
       "unique        269          NaN      3           NaN      5     247   \n",
       "top     Reservoir          NaN      h           NaN      S  Nelson   \n",
       "freq          359          NaN   9163           NaN   8815    1565   \n",
       "mean          NaN      2.92131    NaN  1.077056e+06    NaN     NaN   \n",
       "std           NaN      0.94533    NaN  6.110923e+05    NaN     NaN   \n",
       "min           NaN      1.00000    NaN  8.500000e+04    NaN     NaN   \n",
       "25%           NaN      2.00000    NaN  6.520000e+05    NaN     NaN   \n",
       "50%           NaN      3.00000    NaN  9.100000e+05    NaN     NaN   \n",
       "75%           NaN      3.00000    NaN  1.338500e+06    NaN     NaN   \n",
       "max           NaN      7.00000    NaN  4.900000e+06    NaN     NaN   \n",
       "\n",
       "              Date      Distance      Postcode      Bedroom2      Bathroom  \\\n",
       "count        13280  13280.000000  13280.000000  13280.000000  13280.000000   \n",
       "unique          58           NaN           NaN           NaN           NaN   \n",
       "top     27/05/2017           NaN           NaN           NaN           NaN   \n",
       "freq           458           NaN           NaN           NaN           NaN   \n",
       "mean           NaN      9.688072   3096.929970      2.895783      1.524699   \n",
       "std            NaN      4.886750     59.663144      0.942098      0.679318   \n",
       "min            NaN      0.000000   3000.000000      0.000000      0.000000   \n",
       "25%            NaN      6.100000   3044.000000      2.000000      1.000000   \n",
       "50%            NaN      9.200000   3083.000000      3.000000      1.000000   \n",
       "75%            NaN     12.800000   3146.000000      3.000000      2.000000   \n",
       "max            NaN     34.900000   3207.000000      7.000000      7.000000   \n",
       "\n",
       "                 Car       Landsize  BuildingArea    YearBuilt CouncilArea  \\\n",
       "count   13280.000000   13280.000000   6952.000000  8016.000000       11994   \n",
       "unique           NaN            NaN           NaN          NaN          30   \n",
       "top              NaN            NaN           NaN          NaN    Moreland   \n",
       "freq             NaN            NaN           NaN          NaN        1161   \n",
       "mean        1.591416     538.055346    144.770442  1964.348428         NaN   \n",
       "std         0.959415    3930.342893    129.458588    37.367073         NaN   \n",
       "min         0.000000       0.000000      0.000000  1196.000000         NaN   \n",
       "25%         1.000000     171.750000     92.000000  1940.000000         NaN   \n",
       "50%         2.000000     426.000000    125.000000  1970.000000         NaN   \n",
       "75%         2.000000     650.000000    172.000000  1999.000000         NaN   \n",
       "max        10.000000  433014.000000   6791.000000  2018.000000         NaN   \n",
       "\n",
       "           Lattitude    Longtitude             Regionname  Propertycount  \n",
       "count   13280.000000  13280.000000                  13280   13280.000000  \n",
       "unique           NaN           NaN                      7            NaN  \n",
       "top              NaN           NaN  Southern Metropolitan            NaN  \n",
       "freq             NaN           NaN                   4670            NaN  \n",
       "mean      -37.808774    144.995308                    NaN    7432.246461  \n",
       "std         0.072375      0.096982                    NaN    4362.104773  \n",
       "min       -38.114710    144.598640                    NaN     389.000000  \n",
       "25%       -37.856200    144.930300                    NaN    4380.000000  \n",
       "50%       -37.802400    144.999665                    NaN    6543.000000  \n",
       "75%       -37.757715    145.056203                    NaN   10331.000000  \n",
       "max       -37.568570    145.337380                    NaN   21650.000000  "
      ],
      "text/html": "<div>\n<style scoped>\n    .dataframe tbody tr th:only-of-type {\n        vertical-align: middle;\n    }\n\n    .dataframe tbody tr th {\n        vertical-align: top;\n    }\n\n    .dataframe thead th {\n        text-align: right;\n    }\n</style>\n<table border=\"1\" class=\"dataframe\">\n  <thead>\n    <tr style=\"text-align: right;\">\n      <th></th>\n      <th>Suburb</th>\n      <th>Rooms</th>\n      <th>Type</th>\n      <th>Price</th>\n      <th>Method</th>\n      <th>SellerG</th>\n      <th>Date</th>\n      <th>Distance</th>\n      <th>Postcode</th>\n      <th>Bedroom2</th>\n      <th>Bathroom</th>\n      <th>Car</th>\n      <th>Landsize</th>\n      <th>BuildingArea</th>\n      <th>YearBuilt</th>\n      <th>CouncilArea</th>\n      <th>Lattitude</th>\n      <th>Longtitude</th>\n      <th>Regionname</th>\n      <th>Propertycount</th>\n    </tr>\n  </thead>\n  <tbody>\n    <tr>\n      <th>count</th>\n      <td>13280</td>\n      <td>13280.00000</td>\n      <td>13280</td>\n      <td>1.328000e+04</td>\n      <td>13280</td>\n      <td>13280</td>\n      <td>13280</td>\n      <td>13280.000000</td>\n      <td>13280.000000</td>\n      <td>13280.000000</td>\n      <td>13280.000000</td>\n      <td>13280.000000</td>\n      <td>13280.000000</td>\n      <td>6952.000000</td>\n      <td>8016.000000</td>\n      <td>11994</td>\n      <td>13280.000000</td>\n      <td>13280.000000</td>\n      <td>13280</td>\n      <td>13280.000000</td>\n    </tr>\n    <tr>\n      <th>unique</th>\n      <td>269</td>\n      <td>NaN</td>\n      <td>3</td>\n      <td>NaN</td>\n      <td>5</td>\n      <td>247</td>\n      <td>58</td>\n      <td>NaN</td>\n      <td>NaN</td>\n      <td>NaN</td>\n      <td>NaN</td>\n      <td>NaN</td>\n      <td>NaN</td>\n      <td>NaN</td>\n      <td>NaN</td>\n      <td>30</td>\n      <td>NaN</td>\n      <td>NaN</td>\n      <td>7</td>\n      <td>NaN</td>\n    </tr>\n    <tr>\n      <th>top</th>\n      <td>Reservoir</td>\n      <td>NaN</td>\n      <td>h</td>\n      <td>NaN</td>\n      <td>S</td>\n      <td>Nelson</td>\n      <td>27/05/2017</td>\n      <td>NaN</td>\n      <td>NaN</td>\n      <td>NaN</td>\n      <td>NaN</td>\n      <td>NaN</td>\n      <td>NaN</td>\n      <td>NaN</td>\n      <td>NaN</td>\n      <td>Moreland</td>\n      <td>NaN</td>\n      <td>NaN</td>\n      <td>Southern Metropolitan</td>\n      <td>NaN</td>\n    </tr>\n    <tr>\n      <th>freq</th>\n      <td>359</td>\n      <td>NaN</td>\n      <td>9163</td>\n      <td>NaN</td>\n      <td>8815</td>\n      <td>1565</td>\n      <td>458</td>\n      <td>NaN</td>\n      <td>NaN</td>\n      <td>NaN</td>\n      <td>NaN</td>\n      <td>NaN</td>\n      <td>NaN</td>\n      <td>NaN</td>\n      <td>NaN</td>\n      <td>1161</td>\n      <td>NaN</td>\n      <td>NaN</td>\n      <td>4670</td>\n      <td>NaN</td>\n    </tr>\n    <tr>\n      <th>mean</th>\n      <td>NaN</td>\n      <td>2.92131</td>\n      <td>NaN</td>\n      <td>1.077056e+06</td>\n      <td>NaN</td>\n      <td>NaN</td>\n      <td>NaN</td>\n      <td>9.688072</td>\n      <td>3096.929970</td>\n      <td>2.895783</td>\n      <td>1.524699</td>\n      <td>1.591416</td>\n      <td>538.055346</td>\n      <td>144.770442</td>\n      <td>1964.348428</td>\n      <td>NaN</td>\n      <td>-37.808774</td>\n      <td>144.995308</td>\n      <td>NaN</td>\n      <td>7432.246461</td>\n    </tr>\n    <tr>\n      <th>std</th>\n      <td>NaN</td>\n      <td>0.94533</td>\n      <td>NaN</td>\n      <td>6.110923e+05</td>\n      <td>NaN</td>\n      <td>NaN</td>\n      <td>NaN</td>\n      <td>4.886750</td>\n      <td>59.663144</td>\n      <td>0.942098</td>\n      <td>0.679318</td>\n      <td>0.959415</td>\n      <td>3930.342893</td>\n      <td>129.458588</td>\n      <td>37.367073</td>\n      <td>NaN</td>\n      <td>0.072375</td>\n      <td>0.096982</td>\n      <td>NaN</td>\n      <td>4362.104773</td>\n    </tr>\n    <tr>\n      <th>min</th>\n      <td>NaN</td>\n      <td>1.00000</td>\n      <td>NaN</td>\n      <td>8.500000e+04</td>\n      <td>NaN</td>\n      <td>NaN</td>\n      <td>NaN</td>\n      <td>0.000000</td>\n      <td>3000.000000</td>\n      <td>0.000000</td>\n      <td>0.000000</td>\n      <td>0.000000</td>\n      <td>0.000000</td>\n      <td>0.000000</td>\n      <td>1196.000000</td>\n      <td>NaN</td>\n      <td>-38.114710</td>\n      <td>144.598640</td>\n      <td>NaN</td>\n      <td>389.000000</td>\n    </tr>\n    <tr>\n      <th>25%</th>\n      <td>NaN</td>\n      <td>2.00000</td>\n      <td>NaN</td>\n      <td>6.520000e+05</td>\n      <td>NaN</td>\n      <td>NaN</td>\n      <td>NaN</td>\n      <td>6.100000</td>\n      <td>3044.000000</td>\n      <td>2.000000</td>\n      <td>1.000000</td>\n      <td>1.000000</td>\n      <td>171.750000</td>\n      <td>92.000000</td>\n      <td>1940.000000</td>\n      <td>NaN</td>\n      <td>-37.856200</td>\n      <td>144.930300</td>\n      <td>NaN</td>\n      <td>4380.000000</td>\n    </tr>\n    <tr>\n      <th>50%</th>\n      <td>NaN</td>\n      <td>3.00000</td>\n      <td>NaN</td>\n      <td>9.100000e+05</td>\n      <td>NaN</td>\n      <td>NaN</td>\n      <td>NaN</td>\n      <td>9.200000</td>\n      <td>3083.000000</td>\n      <td>3.000000</td>\n      <td>1.000000</td>\n      <td>2.000000</td>\n      <td>426.000000</td>\n      <td>125.000000</td>\n      <td>1970.000000</td>\n      <td>NaN</td>\n      <td>-37.802400</td>\n      <td>144.999665</td>\n      <td>NaN</td>\n      <td>6543.000000</td>\n    </tr>\n    <tr>\n      <th>75%</th>\n      <td>NaN</td>\n      <td>3.00000</td>\n      <td>NaN</td>\n      <td>1.338500e+06</td>\n      <td>NaN</td>\n      <td>NaN</td>\n      <td>NaN</td>\n      <td>12.800000</td>\n      <td>3146.000000</td>\n      <td>3.000000</td>\n      <td>2.000000</td>\n      <td>2.000000</td>\n      <td>650.000000</td>\n      <td>172.000000</td>\n      <td>1999.000000</td>\n      <td>NaN</td>\n      <td>-37.757715</td>\n      <td>145.056203</td>\n      <td>NaN</td>\n      <td>10331.000000</td>\n    </tr>\n    <tr>\n      <th>max</th>\n      <td>NaN</td>\n      <td>7.00000</td>\n      <td>NaN</td>\n      <td>4.900000e+06</td>\n      <td>NaN</td>\n      <td>NaN</td>\n      <td>NaN</td>\n      <td>34.900000</td>\n      <td>3207.000000</td>\n      <td>7.000000</td>\n      <td>7.000000</td>\n      <td>10.000000</td>\n      <td>433014.000000</td>\n      <td>6791.000000</td>\n      <td>2018.000000</td>\n      <td>NaN</td>\n      <td>-37.568570</td>\n      <td>145.337380</td>\n      <td>NaN</td>\n      <td>21650.000000</td>\n    </tr>\n  </tbody>\n</table>\n</div>"
     },
     "metadata": {},
     "execution_count": 12
    }
   ],
   "source": [
    "data_housing.describe(include = 'all')"
   ]
  },
  {
   "cell_type": "code",
   "execution_count": null,
   "metadata": {},
   "outputs": [],
   "source": [
    "# Only Numerical Columns\n",
    "Num_Cat = ['Price', 'Rooms', 'Distance', 'Postcode', ]"
   ]
  }
 ]
}